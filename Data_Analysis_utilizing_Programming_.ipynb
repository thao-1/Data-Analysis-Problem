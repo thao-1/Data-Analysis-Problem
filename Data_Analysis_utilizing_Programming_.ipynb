{
  "nbformat": 4,
  "nbformat_minor": 0,
  "metadata": {
    "colab": {
      "provenance": []
    },
    "kernelspec": {
      "name": "python3",
      "display_name": "Python 3"
    },
    "language_info": {
      "name": "python"
    }
  },
  "cells": [
    {
      "cell_type": "markdown",
      "source": [
        "# 1. Setup & Data Loading"
      ],
      "metadata": {
        "id": "RYU7NtGCFrBO"
      }
    },
    {
      "cell_type": "code",
      "source": [
        "a = np.array([1,2,3,4,5])\n",
        "b = np.array([5,6,7,8,9])\n",
        "print(np.intersect1d(b, a))"
      ],
      "metadata": {
        "colab": {
          "base_uri": "https://localhost:8080/"
        },
        "id": "AQ071LeYfo6F",
        "outputId": "2025dd7c-1c8b-4877-d4a1-dc172fad119b"
      },
      "execution_count": null,
      "outputs": [
        {
          "output_type": "stream",
          "name": "stdout",
          "text": [
            "[5]\n"
          ]
        }
      ]
    },
    {
      "cell_type": "code",
      "execution_count": null,
      "metadata": {
        "id": "h6S572TREQBd"
      },
      "outputs": [],
      "source": [
        "import pandas as pd\n",
        "import numpy as np\n",
        "import matplotlib.pyplot as plt\n",
        "import seaborn as sns\n",
        "import statsmodels.api as sm\n",
        "from statsmodels.stats.outliers_influence import variance_inflation_factor\n",
        "from scipy import stats"
      ]
    },
    {
      "cell_type": "code",
      "source": [
        "# prompt: upload file code\n",
        "\n",
        "from google.colab import files\n",
        "uploaded = files.upload()\n"
      ],
      "metadata": {
        "colab": {
          "base_uri": "https://localhost:8080/",
          "height": 73
        },
        "id": "msO2JNMHESMJ",
        "outputId": "4216204c-ff7b-4988-aace-2db9c1c3add2"
      },
      "execution_count": null,
      "outputs": [
        {
          "output_type": "display_data",
          "data": {
            "text/plain": [
              "<IPython.core.display.HTML object>"
            ],
            "text/html": [
              "\n",
              "     <input type=\"file\" id=\"files-5dd1c178-28d3-4ada-90a5-69c57aee7e6a\" name=\"files[]\" multiple disabled\n",
              "        style=\"border:none\" />\n",
              "     <output id=\"result-5dd1c178-28d3-4ada-90a5-69c57aee7e6a\">\n",
              "      Upload widget is only available when the cell has been executed in the\n",
              "      current browser session. Please rerun this cell to enable.\n",
              "      </output>\n",
              "      <script>// Copyright 2017 Google LLC\n",
              "//\n",
              "// Licensed under the Apache License, Version 2.0 (the \"License\");\n",
              "// you may not use this file except in compliance with the License.\n",
              "// You may obtain a copy of the License at\n",
              "//\n",
              "//      http://www.apache.org/licenses/LICENSE-2.0\n",
              "//\n",
              "// Unless required by applicable law or agreed to in writing, software\n",
              "// distributed under the License is distributed on an \"AS IS\" BASIS,\n",
              "// WITHOUT WARRANTIES OR CONDITIONS OF ANY KIND, either express or implied.\n",
              "// See the License for the specific language governing permissions and\n",
              "// limitations under the License.\n",
              "\n",
              "/**\n",
              " * @fileoverview Helpers for google.colab Python module.\n",
              " */\n",
              "(function(scope) {\n",
              "function span(text, styleAttributes = {}) {\n",
              "  const element = document.createElement('span');\n",
              "  element.textContent = text;\n",
              "  for (const key of Object.keys(styleAttributes)) {\n",
              "    element.style[key] = styleAttributes[key];\n",
              "  }\n",
              "  return element;\n",
              "}\n",
              "\n",
              "// Max number of bytes which will be uploaded at a time.\n",
              "const MAX_PAYLOAD_SIZE = 100 * 1024;\n",
              "\n",
              "function _uploadFiles(inputId, outputId) {\n",
              "  const steps = uploadFilesStep(inputId, outputId);\n",
              "  const outputElement = document.getElementById(outputId);\n",
              "  // Cache steps on the outputElement to make it available for the next call\n",
              "  // to uploadFilesContinue from Python.\n",
              "  outputElement.steps = steps;\n",
              "\n",
              "  return _uploadFilesContinue(outputId);\n",
              "}\n",
              "\n",
              "// This is roughly an async generator (not supported in the browser yet),\n",
              "// where there are multiple asynchronous steps and the Python side is going\n",
              "// to poll for completion of each step.\n",
              "// This uses a Promise to block the python side on completion of each step,\n",
              "// then passes the result of the previous step as the input to the next step.\n",
              "function _uploadFilesContinue(outputId) {\n",
              "  const outputElement = document.getElementById(outputId);\n",
              "  const steps = outputElement.steps;\n",
              "\n",
              "  const next = steps.next(outputElement.lastPromiseValue);\n",
              "  return Promise.resolve(next.value.promise).then((value) => {\n",
              "    // Cache the last promise value to make it available to the next\n",
              "    // step of the generator.\n",
              "    outputElement.lastPromiseValue = value;\n",
              "    return next.value.response;\n",
              "  });\n",
              "}\n",
              "\n",
              "/**\n",
              " * Generator function which is called between each async step of the upload\n",
              " * process.\n",
              " * @param {string} inputId Element ID of the input file picker element.\n",
              " * @param {string} outputId Element ID of the output display.\n",
              " * @return {!Iterable<!Object>} Iterable of next steps.\n",
              " */\n",
              "function* uploadFilesStep(inputId, outputId) {\n",
              "  const inputElement = document.getElementById(inputId);\n",
              "  inputElement.disabled = false;\n",
              "\n",
              "  const outputElement = document.getElementById(outputId);\n",
              "  outputElement.innerHTML = '';\n",
              "\n",
              "  const pickedPromise = new Promise((resolve) => {\n",
              "    inputElement.addEventListener('change', (e) => {\n",
              "      resolve(e.target.files);\n",
              "    });\n",
              "  });\n",
              "\n",
              "  const cancel = document.createElement('button');\n",
              "  inputElement.parentElement.appendChild(cancel);\n",
              "  cancel.textContent = 'Cancel upload';\n",
              "  const cancelPromise = new Promise((resolve) => {\n",
              "    cancel.onclick = () => {\n",
              "      resolve(null);\n",
              "    };\n",
              "  });\n",
              "\n",
              "  // Wait for the user to pick the files.\n",
              "  const files = yield {\n",
              "    promise: Promise.race([pickedPromise, cancelPromise]),\n",
              "    response: {\n",
              "      action: 'starting',\n",
              "    }\n",
              "  };\n",
              "\n",
              "  cancel.remove();\n",
              "\n",
              "  // Disable the input element since further picks are not allowed.\n",
              "  inputElement.disabled = true;\n",
              "\n",
              "  if (!files) {\n",
              "    return {\n",
              "      response: {\n",
              "        action: 'complete',\n",
              "      }\n",
              "    };\n",
              "  }\n",
              "\n",
              "  for (const file of files) {\n",
              "    const li = document.createElement('li');\n",
              "    li.append(span(file.name, {fontWeight: 'bold'}));\n",
              "    li.append(span(\n",
              "        `(${file.type || 'n/a'}) - ${file.size} bytes, ` +\n",
              "        `last modified: ${\n",
              "            file.lastModifiedDate ? file.lastModifiedDate.toLocaleDateString() :\n",
              "                                    'n/a'} - `));\n",
              "    const percent = span('0% done');\n",
              "    li.appendChild(percent);\n",
              "\n",
              "    outputElement.appendChild(li);\n",
              "\n",
              "    const fileDataPromise = new Promise((resolve) => {\n",
              "      const reader = new FileReader();\n",
              "      reader.onload = (e) => {\n",
              "        resolve(e.target.result);\n",
              "      };\n",
              "      reader.readAsArrayBuffer(file);\n",
              "    });\n",
              "    // Wait for the data to be ready.\n",
              "    let fileData = yield {\n",
              "      promise: fileDataPromise,\n",
              "      response: {\n",
              "        action: 'continue',\n",
              "      }\n",
              "    };\n",
              "\n",
              "    // Use a chunked sending to avoid message size limits. See b/62115660.\n",
              "    let position = 0;\n",
              "    do {\n",
              "      const length = Math.min(fileData.byteLength - position, MAX_PAYLOAD_SIZE);\n",
              "      const chunk = new Uint8Array(fileData, position, length);\n",
              "      position += length;\n",
              "\n",
              "      const base64 = btoa(String.fromCharCode.apply(null, chunk));\n",
              "      yield {\n",
              "        response: {\n",
              "          action: 'append',\n",
              "          file: file.name,\n",
              "          data: base64,\n",
              "        },\n",
              "      };\n",
              "\n",
              "      let percentDone = fileData.byteLength === 0 ?\n",
              "          100 :\n",
              "          Math.round((position / fileData.byteLength) * 100);\n",
              "      percent.textContent = `${percentDone}% done`;\n",
              "\n",
              "    } while (position < fileData.byteLength);\n",
              "  }\n",
              "\n",
              "  // All done.\n",
              "  yield {\n",
              "    response: {\n",
              "      action: 'complete',\n",
              "    }\n",
              "  };\n",
              "}\n",
              "\n",
              "scope.google = scope.google || {};\n",
              "scope.google.colab = scope.google.colab || {};\n",
              "scope.google.colab._files = {\n",
              "  _uploadFiles,\n",
              "  _uploadFilesContinue,\n",
              "};\n",
              "})(self);\n",
              "</script> "
            ]
          },
          "metadata": {}
        },
        {
          "output_type": "stream",
          "name": "stdout",
          "text": [
            "Saving Assignment_linear_regression_data.xlsx to Assignment_linear_regression_data.xlsx\n"
          ]
        }
      ]
    },
    {
      "cell_type": "code",
      "source": [
        "# Load data (replace with your file path)\n",
        "df = pd.read_excel(\"Assignment_linear_regression_data.xlsx\")\n",
        "\n",
        "# Display first few rows\n",
        "print(df.head())"
      ],
      "metadata": {
        "colab": {
          "base_uri": "https://localhost:8080/"
        },
        "id": "MEulTQFRESOK",
        "outputId": "60753ffb-a8ba-4fa4-b34b-9d82f1540c5d"
      },
      "execution_count": null,
      "outputs": [
        {
          "output_type": "stream",
          "name": "stdout",
          "text": [
            "           y       x\n",
            "0  47.320319  9.0527\n",
            "1  39.862491  7.3135\n",
            "2  42.225779  8.6471\n",
            "3  30.010689  5.8579\n",
            "4  43.900459  7.9357\n"
          ]
        }
      ]
    },
    {
      "cell_type": "markdown",
      "source": [
        "# 2. Exploratory Data Analysis (EDA)"
      ],
      "metadata": {
        "id": "OWl73AGdF4Mt"
      }
    },
    {
      "cell_type": "markdown",
      "source": [
        "**A. Scatter Plot (Matrix Scatter Plot)**\n"
      ],
      "metadata": {
        "id": "5l93K_gJF9Vo"
      }
    },
    {
      "cell_type": "code",
      "source": [
        "sns.pairplot(df)  # Matrix scatter plot for all variables\n",
        "plt.show()"
      ],
      "metadata": {
        "colab": {
          "base_uri": "https://localhost:8080/",
          "height": 513
        },
        "id": "N9sgnlS5ESQQ",
        "outputId": "24e7944b-a797-4eb5-c411-97104c4de860"
      },
      "execution_count": null,
      "outputs": [
        {
          "output_type": "display_data",
          "data": {
            "text/plain": [
              "<Figure size 500x500 with 6 Axes>"
            ],
            "image/png": "[encoded data removed]"
          },
          "metadata": {}
        }
      ]
    },
    {
      "cell_type": "markdown",
      "source": [
        "Linear Trend:\n",
        "\n",
        "There is a clear positive linear relationship between\n",
        "x\n",
        "x and\n",
        "y\n",
        "y. As\n",
        "x\n",
        "x increases,\n",
        "y\n",
        "y also increases, which is evident from the upward-sloping pattern in the scatter plots.\n",
        "Correlation:\n",
        "\n",
        "The strong linear trend suggests a high positive correlation between\n",
        "x\n",
        "x and\n",
        "y\n",
        "y.\n",
        "Distribution:\n",
        "\n",
        "The histograms on the diagonal show the distribution of each variable. Both\n",
        "x\n",
        "x and\n",
        "y\n",
        "y appear to be fairly uniformly distributed."
      ],
      "metadata": {
        "id": "UmUcrL2rGfYS"
      }
    },
    {
      "cell_type": "markdown",
      "source": [
        "**B. Histograms (Normality Check)**"
      ],
      "metadata": {
        "id": "rR101C1pHMLY"
      }
    },
    {
      "cell_type": "code",
      "source": [
        "df.hist(figsize=(10, 5))\n",
        "plt.show()"
      ],
      "metadata": {
        "colab": {
          "base_uri": "https://localhost:8080/",
          "height": 468
        },
        "id": "cDfXDB4GESSE",
        "outputId": "e1e873d0-27c7-477d-e8a2-2b37d1417506"
      },
      "execution_count": null,
      "outputs": [
        {
          "output_type": "display_data",
          "data": {
            "text/plain": [
              "<Figure size 1000x500 with 2 Axes>"
            ],
            "image/png": "[encoded data removed]"
          },
          "metadata": {}
        }
      ]
    },
    {
      "cell_type": "markdown",
      "source": [
        "The histogram for\n",
        "y\n",
        "y does not appear to be normally distributed. Here's why:\n",
        "\n",
        "Shape:\n",
        "\n",
        "The distribution of\n",
        "y\n",
        "y is somewhat uniform with multiple peaks, rather than the bell-shaped curve typical of a normal distribution.\n",
        "Symmetry:\n",
        "\n",
        "A normal distribution is symmetric around the mean. The histogram for\n",
        "y\n",
        "y lacks this symmetry.\n",
        "Peaks:\n",
        "\n",
        "There are multiple peaks, indicating a multimodal distribution rather than a single peak typical of a normal distribution.\n",
        "Overall,\n",
        "y\n",
        "y does not exhibit the characteristics of a normal distribution based on this histogram.\n",
        "\n"
      ],
      "metadata": {
        "id": "kS1F7qrJIAqr"
      }
    },
    {
      "cell_type": "markdown",
      "source": [
        "**C. Correlation Heatmap**"
      ],
      "metadata": {
        "id": "4Tu8x0KsIoMU"
      }
    },
    {
      "cell_type": "code",
      "source": [
        "sns.heatmap(df.corr(), annot=True, cmap=\"coolwarm\")\n",
        "plt.show()"
      ],
      "metadata": {
        "colab": {
          "base_uri": "https://localhost:8080/",
          "height": 435
        },
        "id": "ZXfhxcoTESUK",
        "outputId": "165f74f0-31c3-4690-dce0-5434a290cc1d"
      },
      "execution_count": null,
      "outputs": [
        {
          "output_type": "display_data",
          "data": {
            "text/plain": [
              "<Figure size 640x480 with 2 Axes>"
            ],
            "image/png": "[encoded data removed]"
          },
          "metadata": {}
        }
      ]
    },
    {
      "cell_type": "markdown",
      "source": [
        "High Correlation:\n",
        "\n",
        "A correlation of 0.95 indicates a very strong positive linear relationship between\n",
        "x\n",
        "x and\n",
        "y\n",
        "y.\n",
        "Implications:\n",
        "\n",
        "This strong correlation suggests that as\n",
        "x\n",
        "x increases,\n",
        "y\n",
        "y tends to increase as well, and vice versa.\n",
        "Linear Relationship:\n",
        "\n",
        "The high correlation supports the presence of a strong linear trend, as observed in the scatter plot.\n",
        "Overall, the correlation coefficient confirms a strong linear relationship between the variables."
      ],
      "metadata": {
        "id": "qf_g1mH0JGIi"
      }
    },
    {
      "cell_type": "markdown",
      "source": [
        "# 3. OLS Regression (Original Data)"
      ],
      "metadata": {
        "id": "UTGI1HohJLIl"
      }
    },
    {
      "cell_type": "code",
      "source": [
        "X = df[['x']]  # Independent variable\n",
        "y = df['y']    # Dependent variable\n",
        "\n",
        "# Add constant (intercept)\n",
        "X = sm.add_constant(X)\n",
        "\n",
        "# Fit OLS model\n",
        "model = sm.OLS(y, X).fit()\n",
        "print(model.summary())"
      ],
      "metadata": {
        "colab": {
          "base_uri": "https://localhost:8080/"
        },
        "id": "-yUxIQrOESWP",
        "outputId": "5bf3a40d-33ea-4d84-b2a8-db43f522a0dd"
      },
      "execution_count": null,
      "outputs": [
        {
          "output_type": "stream",
          "name": "stdout",
          "text": [
            "                            OLS Regression Results                            \n",
            "==============================================================================\n",
            "Dep. Variable:                      y   R-squared:                       0.906\n",
            "Model:                            OLS   Adj. R-squared:                  0.905\n",
            "Method:                 Least Squares   F-statistic:                     954.0\n",
            "Date:                Fri, 28 Mar 2025   Prob (F-statistic):           1.25e-52\n",
            "Time:                        23:46:25   Log-Likelihood:                -297.30\n",
            "No. Observations:                 101   AIC:                             598.6\n",
            "Df Residuals:                      99   BIC:                             603.8\n",
            "Df Model:                           1                                         \n",
            "Covariance Type:            nonrobust                                         \n",
            "==============================================================================\n",
            "                 coef    std err          t      P>|t|      [0.025      0.975]\n",
            "------------------------------------------------------------------------------\n",
            "const         -0.1240      0.937     -0.132      0.895      -1.983       1.735\n",
            "x              5.0867      0.165     30.886      0.000       4.760       5.414\n",
            "==============================================================================\n",
            "Omnibus:                        2.993   Durbin-Watson:                   1.905\n",
            "Prob(Omnibus):                  0.224   Jarque-Bera (JB):                2.681\n",
            "Skew:                          -0.170   Prob(JB):                        0.262\n",
            "Kurtosis:                       3.722   Cond. No.                         11.8\n",
            "==============================================================================\n",
            "\n",
            "Notes:\n",
            "[1] Standard Errors assume that the covariance matrix of the errors is correctly specified.\n"
          ]
        }
      ]
    },
    {
      "cell_type": "markdown",
      "source": [
        "**R-squared (Model Fit)**\n",
        "\n",
        "R-squared: 0.906\n",
        "\n",
        "This indicates that 90.6% of the variability in\n",
        "y\n",
        "y is explained by the model with\n",
        "x\n",
        "x as the predictor. This suggests a very good fit.\n",
        "\n",
        "**Coefficients (Slope & Intercept)**\n",
        "\n",
        "Intercept (const): -0.1240\n",
        "\n",
        "This is the expected value of\n",
        "y\n",
        "y when\n",
        "x\n",
        "x is 0.\n",
        "\n",
        "Slope (x): 5.0867\n",
        "\n",
        "For each unit increase in\n",
        "x\n",
        "x,\n",
        "y\n",
        "y is expected to increase by approximately 5.0867 units.\n",
        "\n",
        "\n",
        "**p-values (Significance)**\n",
        "\n",
        "Intercept p-value: 0.895\n",
        "\n",
        "This is not statistically significant, indicating the intercept may not be different from zero.\n",
        "\n",
        "Slope p-value: 0.000\n",
        "\n",
        "This is highly significant, suggesting a strong relationship between\n",
        "x\n",
        "x and\n",
        "y\n",
        "y.\n",
        "\n",
        "**Confidence Intervals**\n",
        "\n",
        "Intercept: [-1.983, 1.735]\n",
        "\n",
        "The 95% confidence interval for the intercept includes zero, supporting the lack of significance.\n",
        "\n",
        "Slope: [4.760, 5.414]\n",
        "\n",
        "The 95% confidence interval for the slope does not include zero, reinforcing the significance of the relationship."
      ],
      "metadata": {
        "id": "yfbnJaVfJ8G6"
      }
    },
    {
      "cell_type": "markdown",
      "source": [
        "# 4. Checking OLS Assumptions"
      ],
      "metadata": {
        "id": "JzTgrLZXK9Cr"
      }
    },
    {
      "cell_type": "markdown",
      "source": [
        "**A. Linearity (Residuals vs. Fitted Plot)**"
      ],
      "metadata": {
        "id": "FrmyCRJ1LB5U"
      }
    },
    {
      "cell_type": "code",
      "source": [
        "sns.residplot(x=model.fittedvalues, y=model.resid, lowess=True)\n",
        "plt.xlabel(\"Fitted values\")\n",
        "plt.ylabel(\"Residuals\")\n",
        "plt.title(\"Residuals vs Fitted\")\n",
        "plt.show()"
      ],
      "metadata": {
        "colab": {
          "base_uri": "https://localhost:8080/",
          "height": 472
        },
        "id": "e_2LW5ArESYE",
        "outputId": "fe5d3923-e04f-4370-ece3-5bb3b613f827"
      },
      "execution_count": null,
      "outputs": [
        {
          "output_type": "display_data",
          "data": {
            "text/plain": [
              "<Figure size 640x480 with 1 Axes>"
            ],
            "image/png": "[encoded data removed]"
          },
          "metadata": {}
        }
      ]
    },
    {
      "cell_type": "markdown",
      "source": [
        "**No Pattern:**\n",
        "\n",
        "The residuals are scattered randomly around the horizontal line at zero, with no clear pattern or systematic structure.\n",
        "\n",
        "**Linearity Holds:**\n",
        "\n",
        "The lack of a discernible pattern suggests that the linearity assumption is valid. The model's linear fit is appropriate for the data.\n",
        "\n",
        "**Homoscedasticity:**\n",
        "\n",
        "The spread of residuals appears consistent across the range of fitted values, indicating homoscedasticity (constant variance)."
      ],
      "metadata": {
        "id": "mi7ffZD3LV22"
      }
    },
    {
      "cell_type": "markdown",
      "source": [
        "**B. Normality (Q-Q Plot)**"
      ],
      "metadata": {
        "id": "BPgHYjzALly8"
      }
    },
    {
      "cell_type": "code",
      "source": [
        "sm.qqplot(model.resid, line='s')\n",
        "plt.title(\"Q-Q Plot of Residuals\")\n",
        "plt.show()"
      ],
      "metadata": {
        "colab": {
          "base_uri": "https://localhost:8080/",
          "height": 472
        },
        "id": "lJV4AuYfESbu",
        "outputId": "f2733910-e7c4-4b9b-b0d5-1905939a6c20"
      },
      "execution_count": null,
      "outputs": [
        {
          "output_type": "display_data",
          "data": {
            "text/plain": [
              "<Figure size 640x480 with 1 Axes>"
            ],
            "image/png": "[encoded data removed]"
          },
          "metadata": {}
        }
      ]
    },
    {
      "cell_type": "markdown",
      "source": [
        "**Points on the Line:**\n",
        "\n",
        "The residuals closely follow the red line, indicating that they are approximately normally distributed.\n",
        "\n",
        "**Normality Holds:**\n",
        "\n",
        "Since most points lie on or near the line, the assumption of normality for the residuals is valid.\n",
        "\n",
        "**Deviations:**\n",
        "\n",
        "There are slight deviations at the tails, but they are not substantial enough to suggest a significant departure from normality.\n",
        "\n",
        "Overall, the Q-Q plot supports the assumption that the residuals are normally distributed.\n",
        "\n"
      ],
      "metadata": {
        "id": "WmaZrt0xLxyW"
      }
    },
    {
      "cell_type": "markdown",
      "source": [
        "**C. Homoscedasticity (Equal Variance)**"
      ],
      "metadata": {
        "id": "ibH5p0NfMCZq"
      }
    },
    {
      "cell_type": "code",
      "source": [
        "plt.scatter(model.fittedvalues, model.resid)\n",
        "plt.axhline(y=0, color='r', linestyle='--')\n",
        "plt.xlabel(\"Fitted Values\")\n",
        "plt.ylabel(\"Residuals\")\n",
        "plt.title(\"Homoscedasticity Check\")\n",
        "plt.show()"
      ],
      "metadata": {
        "colab": {
          "base_uri": "https://localhost:8080/",
          "height": 472
        },
        "id": "OOki93DLESdi",
        "outputId": "0e1560f7-4bf0-439e-990b-b66ce3beda43"
      },
      "execution_count": null,
      "outputs": [
        {
          "output_type": "display_data",
          "data": {
            "text/plain": [
              "<Figure size 640x480 with 1 Axes>"
            ],
            "image/png": "[encoded data removed]"
          },
          "metadata": {}
        }
      ]
    },
    {
      "cell_type": "markdown",
      "source": [
        "**No Funnel Shape:**\n",
        "\n",
        "The residuals are spread evenly across the range of fitted values, with no clear pattern or funnel shape.\n",
        "\n",
        "**Homoscedasticity Holds:**\n",
        "\n",
        "The consistent spread of residuals suggests that the assumption of homoscedasticity is valid. The variance of the residuals is constant.\n",
        "\n",
        "Overall, the plot supports the assumption of equal variance, indicating that the model's residuals are homoscedastic."
      ],
      "metadata": {
        "id": "lV-VNkqBMeAU"
      }
    },
    {
      "cell_type": "markdown",
      "source": [
        "**D. Multicollinearity (VIF)**"
      ],
      "metadata": {
        "id": "VWcKyADXMsVf"
      }
    },
    {
      "cell_type": "code",
      "source": [
        "vif = pd.DataFrame()\n",
        "vif[\"Variable\"] = X.columns\n",
        "vif[\"VIF\"] = [variance_inflation_factor(X.values, i) for i in range(X.shape[1])]\n",
        "print(vif)"
      ],
      "metadata": {
        "colab": {
          "base_uri": "https://localhost:8080/"
        },
        "id": "9IsyXUtSESfG",
        "outputId": "48d8d8cf-99d5-4423-9ef4-397d4f7db436"
      },
      "execution_count": null,
      "outputs": [
        {
          "output_type": "stream",
          "name": "stdout",
          "text": [
            "  Variable       VIF\n",
            "0    const  4.116407\n",
            "1        x  1.000000\n"
          ]
        }
      ]
    },
    {
      "cell_type": "markdown",
      "source": [
        "VIF for Intercept (const): 4.116\n",
        "\n",
        "VIF < 5 → No multicollinearity"
      ],
      "metadata": {
        "id": "rD3HJBxxM-wr"
      }
    },
    {
      "cell_type": "markdown",
      "source": [
        "# 5. Handling Outliers"
      ],
      "metadata": {
        "id": "ZDdIIuikNMyY"
      }
    },
    {
      "cell_type": "markdown",
      "source": [
        "**A. Detect Outliers (Cook’s Distance)**"
      ],
      "metadata": {
        "id": "concZdhXNPQY"
      }
    },
    {
      "cell_type": "code",
      "source": [
        "influence = model.get_influence()\n",
        "cooks_d = influence.cooks_distance[0]\n",
        "\n",
        "plt.stem(np.arange(len(cooks_d)), cooks_d, markerfmt=\",\")\n",
        "plt.title(\"Cook's Distance\")\n",
        "plt.show()"
      ],
      "metadata": {
        "colab": {
          "base_uri": "https://localhost:8080/",
          "height": 452
        },
        "id": "nf4uQyweMHeG",
        "outputId": "b661a057-8c63-4678-98e7-f30456ea5309"
      },
      "execution_count": null,
      "outputs": [
        {
          "output_type": "display_data",
          "data": {
            "text/plain": [
              "<Figure size 640x480 with 1 Axes>"
            ],
            "image/png": "[encoded data removed]"
          },
          "metadata": {}
        }
      ]
    },
    {
      "cell_type": "markdown",
      "source": [
        "Threshold for Outliers:\n",
        "\n",
        "A common threshold is\n",
        "4/n\n",
        "n4​, where\n",
        "n\n",
        "n is the number of observations. In this case,\n",
        "n\n",
        "=\n",
        "101\n",
        "n=101, so the threshold is approximately 0.04.\n",
        "\n",
        "Points Above Threshold:\n",
        "\n",
        "Points with Cook's Distance above 0.04 are considered potential outliers or influential points.\n",
        "\n",
        "Plot Observation:\n",
        "\n",
        "Most points are below the threshold, indicating they are not influential. A few points exceed the threshold, suggesting they may be outliers or have a significant influence on the model."
      ],
      "metadata": {
        "id": "SRmIZPpsNngQ"
      }
    },
    {
      "cell_type": "markdown",
      "source": [
        "**B. Remove Outliers & Re-run Regression**"
      ],
      "metadata": {
        "id": "7e7AKzH4OCF0"
      }
    },
    {
      "cell_type": "code",
      "source": [
        "# Remove outliers (example: Cook's D > threshold)\n",
        "threshold = 4 / len(df)\n",
        "outliers = np.where(cooks_d > threshold)[0]\n",
        "df_clean = df.drop(outliers)\n",
        "\n",
        "# Re-run OLS on cleaned data\n",
        "X_clean = sm.add_constant(df_clean[['x']])\n",
        "model_clean = sm.OLS(df_clean['y'], X_clean).fit()\n",
        "print(model_clean.summary())"
      ],
      "metadata": {
        "colab": {
          "base_uri": "https://localhost:8080/"
        },
        "id": "9TP4DUc2MHgs",
        "outputId": "3efee759-70e6-4af5-8a26-4bc910caa12b"
      },
      "execution_count": null,
      "outputs": [
        {
          "output_type": "stream",
          "name": "stdout",
          "text": [
            "                            OLS Regression Results                            \n",
            "==============================================================================\n",
            "Dep. Variable:                      y   R-squared:                       0.927\n",
            "Model:                            OLS   Adj. R-squared:                  0.926\n",
            "Method:                 Least Squares   F-statistic:                     1174.\n",
            "Date:                Sat, 29 Mar 2025   Prob (F-statistic):           1.52e-54\n",
            "Time:                        00:06:19   Log-Likelihood:                -264.20\n",
            "No. Observations:                  95   AIC:                             532.4\n",
            "Df Residuals:                      93   BIC:                             537.5\n",
            "Df Model:                           1                                         \n",
            "Covariance Type:            nonrobust                                         \n",
            "==============================================================================\n",
            "                 coef    std err          t      P>|t|      [0.025      0.975]\n",
            "------------------------------------------------------------------------------\n",
            "const         -0.0644      0.856     -0.075      0.940      -1.764       1.635\n",
            "x              5.1394      0.150     34.271      0.000       4.842       5.437\n",
            "==============================================================================\n",
            "Omnibus:                        1.636   Durbin-Watson:                   2.101\n",
            "Prob(Omnibus):                  0.441   Jarque-Bera (JB):                1.432\n",
            "Skew:                          -0.300   Prob(JB):                        0.489\n",
            "Kurtosis:                       2.967   Cond. No.                         12.4\n",
            "==============================================================================\n",
            "\n",
            "Notes:\n",
            "[1] Standard Errors assume that the covariance matrix of the errors is correctly specified.\n"
          ]
        }
      ]
    },
    {
      "cell_type": "markdown",
      "source": [
        "**R-squared**\n",
        "\n",
        "Before: 0.906\n",
        "\n",
        "After: 0.927\n",
        "\n",
        "The R-squared increased, indicating a better fit of the model to the data after removing outliers.\n",
        "\n",
        "**Slope**\n",
        "\n",
        "Before: 5.0867\n",
        "\n",
        "After: 5.1394\n",
        "\n",
        "The slope increased slightly, suggesting a stronger relationship between\n",
        "x\n",
        "x and\n",
        "y\n",
        "y after cleaning the data.\n",
        "\n",
        "**Intercept**\n",
        "\n",
        "Before: -0.1240\n",
        "\n",
        "After: -0.0644\n",
        "\n",
        "The intercept changed slightly, but remains close to zero, indicating minimal impact on the model's baseline prediction."
      ],
      "metadata": {
        "id": "-Smi2NwFOS3s"
      }
    },
    {
      "cell_type": "markdown",
      "source": [
        "# 6. Data Transformation (If Non-Linear)"
      ],
      "metadata": {
        "id": "eOXPeZH1Omfg"
      }
    },
    {
      "cell_type": "markdown",
      "source": [
        "**A. Log Transformation**"
      ],
      "metadata": {
        "id": "K-qAkjgdOmmK"
      }
    },
    {
      "cell_type": "code",
      "source": [
        "# Add a small constant to avoid log(0) or negative values\n",
        "df['log_y'] = np.log(df['y'] + 1e-9)\n",
        "\n",
        "X_log = sm.add_constant(df['x'])\n",
        "model_log = sm.OLS(df['log_y'], X_log).fit()\n",
        "\n",
        "print(\"\\nLog-Transformed Regression Results:\")\n",
        "print(model_log.summary())"
      ],
      "metadata": {
        "colab": {
          "base_uri": "https://localhost:8080/"
        },
        "id": "HGs9MLCkORh-",
        "outputId": "2b65edfc-22cc-4dd9-fcf5-3bd8bac52f93"
      },
      "execution_count": null,
      "outputs": [
        {
          "output_type": "stream",
          "name": "stdout",
          "text": [
            "\n",
            "Log-Transformed Regression Results:\n",
            "                            OLS Regression Results                            \n",
            "==============================================================================\n",
            "Dep. Variable:                  log_y   R-squared:                         nan\n",
            "Model:                            OLS   Adj. R-squared:                    nan\n",
            "Method:                 Least Squares   F-statistic:                       nan\n",
            "Date:                Sat, 29 Mar 2025   Prob (F-statistic):                nan\n",
            "Time:                        00:18:24   Log-Likelihood:                    nan\n",
            "No. Observations:                 101   AIC:                               nan\n",
            "Df Residuals:                      99   BIC:                               nan\n",
            "Df Model:                           1                                         \n",
            "Covariance Type:            nonrobust                                         \n",
            "==============================================================================\n",
            "                 coef    std err          t      P>|t|      [0.025      0.975]\n",
            "------------------------------------------------------------------------------\n",
            "const             nan        nan        nan        nan         nan         nan\n",
            "x                 nan        nan        nan        nan         nan         nan\n",
            "==============================================================================\n",
            "Omnibus:                          nan   Durbin-Watson:                     nan\n",
            "Prob(Omnibus):                    nan   Jarque-Bera (JB):                  nan\n",
            "Skew:                             nan   Prob(JB):                          nan\n",
            "Kurtosis:                         nan   Cond. No.                         11.8\n",
            "==============================================================================\n",
            "\n",
            "Notes:\n",
            "[1] Standard Errors assume that the covariance matrix of the errors is correctly specified.\n"
          ]
        },
        {
          "output_type": "stream",
          "name": "stderr",
          "text": [
            "/usr/local/lib/python3.11/dist-packages/pandas/core/arraylike.py:399: RuntimeWarning: invalid value encountered in log\n",
            "  result = getattr(ufunc, method)(*inputs, **kwargs)\n"
          ]
        }
      ]
    },
    {
      "cell_type": "markdown",
      "source": [
        "**B. Polynomial Regression (If Curved Trend)**"
      ],
      "metadata": {
        "id": "8SjBmhn6QOZX"
      }
    },
    {
      "cell_type": "code",
      "source": [
        "df['x_squared'] = df['x'] ** 2  # Add quadratic term\n",
        "\n",
        "# Fit polynomial model\n",
        "X_poly = sm.add_constant(df[['x', 'x_squared']])\n",
        "model_poly = sm.OLS(df['y'], X_poly).fit()\n",
        "print(model_poly.summary())"
      ],
      "metadata": {
        "colab": {
          "base_uri": "https://localhost:8080/"
        },
        "id": "JXr_8n_oORkU",
        "outputId": "02a190aa-2531-4fcc-d11b-f5a229920aa5"
      },
      "execution_count": null,
      "outputs": [
        {
          "output_type": "stream",
          "name": "stdout",
          "text": [
            "                            OLS Regression Results                            \n",
            "==============================================================================\n",
            "Dep. Variable:                      y   R-squared:                       0.907\n",
            "Model:                            OLS   Adj. R-squared:                  0.905\n",
            "Method:                 Least Squares   F-statistic:                     475.6\n",
            "Date:                Sat, 29 Mar 2025   Prob (F-statistic):           3.52e-51\n",
            "Time:                        00:16:19   Log-Likelihood:                -296.97\n",
            "No. Observations:                 101   AIC:                             599.9\n",
            "Df Residuals:                      98   BIC:                             607.8\n",
            "Df Model:                           2                                         \n",
            "Covariance Type:            nonrobust                                         \n",
            "==============================================================================\n",
            "                 coef    std err          t      P>|t|      [0.025      0.975]\n",
            "------------------------------------------------------------------------------\n",
            "const         -1.0160      1.448     -0.702      0.485      -3.890       1.858\n",
            "x              5.6194      0.679      8.276      0.000       4.272       6.967\n",
            "x_squared     -0.0539      0.067     -0.809      0.421      -0.186       0.078\n",
            "==============================================================================\n",
            "Omnibus:                        3.599   Durbin-Watson:                   1.907\n",
            "Prob(Omnibus):                  0.165   Jarque-Bera (JB):                3.831\n",
            "Skew:                          -0.122   Prob(JB):                        0.147\n",
            "Kurtosis:                       3.922   Cond. No.                         148.\n",
            "==============================================================================\n",
            "\n",
            "Notes:\n",
            "[1] Standard Errors assume that the covariance matrix of the errors is correctly specified.\n"
          ]
        }
      ]
    },
    {
      "cell_type": "markdown",
      "source": [
        "P-value for\n",
        "X\n",
        "squared\n",
        "Xsquared​: 0.421\n",
        "\n",
        "This p-value is greater than 0.05, indicating that\n",
        "X\n",
        "squared\n",
        "Xsquared​ is not statistically significant.\n",
        "\n",
        "Interpretation:\n",
        "\n",
        "The quadratic term does not significantly improve the model. The relationship between\n",
        "x\n",
        "x and\n",
        "y\n",
        "y is likely linear rather than quadratic.\n",
        "\n",
        "Model Fit:\n",
        "\n",
        "The R-squared value remains high, but the lack of significance for\n",
        "X\n",
        "squared\n",
        "Xsquared​ suggests that adding this term does not provide meaningful improvement.\n",
        "Overall, the quadratic term\n",
        "X\n",
        "squared\n",
        "Xsquared​ is not a significant predictor in this model."
      ],
      "metadata": {
        "id": "7mJSKo-VRzgH"
      }
    },
    {
      "cell_type": "markdown",
      "source": [
        "**7. Final Model Selection & Interpretation**"
      ],
      "metadata": {
        "id": "-E00bIbOSW0u"
      }
    },
    {
      "cell_type": "markdown",
      "source": [
        "**Best Model Criteria**\n",
        "\n",
        "Highest R²:\n",
        "\n",
        "Choose the model with the highest R², but ensure it doesn't overfit by checking other criteria.\n",
        "\n",
        "Passes OLS Assumptions:\n",
        "\n",
        "Normality: Residuals should be normally distributed.\n",
        "Homoscedasticity: Residuals should have constant variance.\n",
        "\n",
        "\n",
        "Significant Coefficients:\n",
        "\n",
        "Ensure all coefficients have p-values < 0.05.\n",
        "\n",
        "**Interpreting Coefficients**\n",
        "\n",
        "Linear Model:\n",
        "Y\n",
        "=\n",
        "β\n",
        "0\n",
        "+\n",
        "β\n",
        "1\n",
        "X\n",
        "Y=β0​+β1​X\n",
        "\n",
        "β\n",
        "0\n",
        "β0​: The expected value of\n",
        "Y\n",
        "Y when\n",
        "X\n",
        "=\n",
        "0\n",
        "X=0.\n",
        "\n",
        "β\n",
        "1\n",
        "β1​: The change in\n",
        "Y\n",
        "Y for each unit increase in\n",
        "X\n",
        "X.\n",
        "\n",
        "Log-Linear Model:\n",
        "log\n",
        "⁡\n",
        "(\n",
        "Y\n",
        ")\n",
        "=\n",
        "β\n",
        "0\n",
        "+\n",
        "β\n",
        "1\n",
        "X\n",
        "log(Y)=β0​+β1​X\n",
        "\n",
        "β\n",
        "0\n",
        "β0​: The expected log value of\n",
        "Y\n",
        "Y when\n",
        "X\n",
        "=\n",
        "0\n",
        "X=0.\n",
        "\n",
        "β\n",
        "1\n",
        "β1​: Represents a\n",
        "100\n",
        "×\n",
        "β\n",
        "1\n",
        "100×β1​% change in\n",
        "Y\n",
        "Y for each unit increase in\n",
        "X\n",
        "X."
      ],
      "metadata": {
        "id": "QAi6KkiGSW8D"
      }
    },
    {
      "cell_type": "markdown",
      "source": [
        "# 8. Full Report Generation"
      ],
      "metadata": {
        "id": "7vZJKP4TTAJw"
      }
    },
    {
      "cell_type": "code",
      "source": [
        "from IPython.display import display, Markdown\n",
        "\n",
        "# Generate the report\n",
        "report_md = (\n",
        "    \"### LINEAR REGRESSION ANALYSIS REPORT\\n\\n\"\n",
        "    \"#### 1. Original OLS Model:\\n\"\n",
        "    f\"```\\n{model.summary()}\\n```\\n\\n\"\n",
        "    \"#### 2. Cleaned Data (No Outliers) OLS Model:\\n\"\n",
        "    f\"```\\n{model_clean.summary()}\\n```\\n\\n\"\n",
        "    \"#### 3. Log-Transformed OLS Model:\\n\"\n",
        "    f\"```\\n{model_log.summary()}\\n```\\n\\n\"\n",
        "    \"#### 4. Polynomial OLS Model:\\n\"\n",
        "    f\"```\\n{model_poly.summary()}\\n```\"\n",
        ")\n",
        "\n",
        "# Display as Markdown\n",
        "display(Markdown(report_md))"
      ],
      "metadata": {
        "colab": {
          "base_uri": "https://localhost:8080/",
          "height": 1000
        },
        "id": "fvUTUD31MHk4",
        "outputId": "d6a140ef-c206-4e14-c75c-7e31f7dba1d5"
      },
      "execution_count": null,
      "outputs": [
        {
          "output_type": "display_data",
          "data": {
            "text/plain": [
              "<IPython.core.display.Markdown object>"
            ],
            "text/markdown": "### LINEAR REGRESSION ANALYSIS REPORT\n\n#### 1. Original OLS Model:\n```\n                            OLS Regression Results                            \n==============================================================================\nDep. Variable:                      y   R-squared:                       0.906\nModel:                            OLS   Adj. R-squared:                  0.905\nMethod:                 Least Squares   F-statistic:                     954.0\nDate:                Sat, 29 Mar 2025   Prob (F-statistic):           1.25e-52\nTime:                        00:37:15   Log-Likelihood:                -297.30\nNo. Observations:                 101   AIC:                             598.6\nDf Residuals:                      99   BIC:                             603.8\nDf Model:                           1                                         \nCovariance Type:            nonrobust                                         \n==============================================================================\n                 coef    std err          t      P>|t|      [0.025      0.975]\n------------------------------------------------------------------------------\nconst         -0.1240      0.937     -0.132      0.895      -1.983       1.735\nx              5.0867      0.165     30.886      0.000       4.760       5.414\n==============================================================================\nOmnibus:                        2.993   Durbin-Watson:                   1.905\nProb(Omnibus):                  0.224   Jarque-Bera (JB):                2.681\nSkew:                          -0.170   Prob(JB):                        0.262\nKurtosis:                       3.722   Cond. No.                         11.8\n==============================================================================\n\nNotes:\n[1] Standard Errors assume that the covariance matrix of the errors is correctly specified.\n```\n\n#### 2. Cleaned Data (No Outliers) OLS Model:\n```\n                            OLS Regression Results                            \n==============================================================================\nDep. Variable:                      y   R-squared:                       0.927\nModel:                            OLS   Adj. R-squared:                  0.926\nMethod:                 Least Squares   F-statistic:                     1174.\nDate:                Sat, 29 Mar 2025   Prob (F-statistic):           1.52e-54\nTime:                        00:37:15   Log-Likelihood:                -264.20\nNo. Observations:                  95   AIC:                             532.4\nDf Residuals:                      93   BIC:                             537.5\nDf Model:                           1                                         \nCovariance Type:            nonrobust                                         \n==============================================================================\n                 coef    std err          t      P>|t|      [0.025      0.975]\n------------------------------------------------------------------------------\nconst         -0.0644      0.856     -0.075      0.940      -1.764       1.635\nx              5.1394      0.150     34.271      0.000       4.842       5.437\n==============================================================================\nOmnibus:                        1.636   Durbin-Watson:                   2.101\nProb(Omnibus):                  0.441   Jarque-Bera (JB):                1.432\nSkew:                          -0.300   Prob(JB):                        0.489\nKurtosis:                       2.967   Cond. No.                         12.4\n==============================================================================\n\nNotes:\n[1] Standard Errors assume that the covariance matrix of the errors is correctly specified.\n```\n\n#### 3. Log-Transformed OLS Model:\n```\n                            OLS Regression Results                            \n==============================================================================\nDep. Variable:                  log_y   R-squared:                         nan\nModel:                            OLS   Adj. R-squared:                    nan\nMethod:                 Least Squares   F-statistic:                       nan\nDate:                Sat, 29 Mar 2025   Prob (F-statistic):                nan\nTime:                        00:37:15   Log-Likelihood:                    nan\nNo. Observations:                 101   AIC:                               nan\nDf Residuals:                      99   BIC:                               nan\nDf Model:                           1                                         \nCovariance Type:            nonrobust                                         \n==============================================================================\n                 coef    std err          t      P>|t|      [0.025      0.975]\n------------------------------------------------------------------------------\nconst             nan        nan        nan        nan         nan         nan\nx                 nan        nan        nan        nan         nan         nan\n==============================================================================\nOmnibus:                          nan   Durbin-Watson:                     nan\nProb(Omnibus):                    nan   Jarque-Bera (JB):                  nan\nSkew:                             nan   Prob(JB):                          nan\nKurtosis:                         nan   Cond. No.                         11.8\n==============================================================================\n\nNotes:\n[1] Standard Errors assume that the covariance matrix of the errors is correctly specified.\n```\n\n#### 4. Polynomial OLS Model:\n```\n                            OLS Regression Results                            \n==============================================================================\nDep. Variable:                      y   R-squared:                       0.907\nModel:                            OLS   Adj. R-squared:                  0.905\nMethod:                 Least Squares   F-statistic:                     475.6\nDate:                Sat, 29 Mar 2025   Prob (F-statistic):           3.52e-51\nTime:                        00:37:15   Log-Likelihood:                -296.97\nNo. Observations:                 101   AIC:                             599.9\nDf Residuals:                      98   BIC:                             607.8\nDf Model:                           2                                         \nCovariance Type:            nonrobust                                         \n==============================================================================\n                 coef    std err          t      P>|t|      [0.025      0.975]\n------------------------------------------------------------------------------\nconst         -1.0160      1.448     -0.702      0.485      -3.890       1.858\nx              5.6194      0.679      8.276      0.000       4.272       6.967\nx_squared     -0.0539      0.067     -0.809      0.421      -0.186       0.078\n==============================================================================\nOmnibus:                        3.599   Durbin-Watson:                   1.907\nProb(Omnibus):                  0.165   Jarque-Bera (JB):                3.831\nSkew:                          -0.122   Prob(JB):                        0.147\nKurtosis:                       3.922   Cond. No.                         148.\n==============================================================================\n\nNotes:\n[1] Standard Errors assume that the covariance matrix of the errors is correctly specified.\n```"
          },
          "metadata": {}
        }
      ]
    }
  ]
}